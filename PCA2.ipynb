{
 "cells": [
  {
   "cell_type": "code",
   "execution_count": 1,
   "metadata": {},
   "outputs": [],
   "source": [
    "import pandas as pd\n",
    "import numpy as np\n",
    "import matplotlib.pyplot as plt\n",
    "from sklearn import preprocessing\n",
    "import chart_studio.plotly as py\n",
    "import plotly.graph_objects as go\n",
    "from plotly.graph_objs import *\n",
    "from plotly.offline import iplot"
   ]
  },
  {
   "cell_type": "code",
   "execution_count": 2,
   "metadata": {},
   "outputs": [],
   "source": [
    "df_stocks = pd.read_csv(\"Tech_stock_prices.csv\")"
   ]
  },
  {
   "cell_type": "code",
   "execution_count": 3,
   "metadata": {},
   "outputs": [],
   "source": [
    "df = df_stocks[['ticker','close','date']][:100000].copy()"
   ]
  },
  {
   "cell_type": "code",
   "execution_count": 4,
   "metadata": {},
   "outputs": [
    {
     "data": {
      "text/html": [
       "<div>\n",
       "<style scoped>\n",
       "    .dataframe tbody tr th:only-of-type {\n",
       "        vertical-align: middle;\n",
       "    }\n",
       "\n",
       "    .dataframe tbody tr th {\n",
       "        vertical-align: top;\n",
       "    }\n",
       "\n",
       "    .dataframe thead th {\n",
       "        text-align: right;\n",
       "    }\n",
       "</style>\n",
       "<table border=\"1\" class=\"dataframe\">\n",
       "  <thead>\n",
       "    <tr style=\"text-align: right;\">\n",
       "      <th></th>\n",
       "      <th>ticker</th>\n",
       "      <th>close</th>\n",
       "      <th>date</th>\n",
       "    </tr>\n",
       "  </thead>\n",
       "  <tbody>\n",
       "    <tr>\n",
       "      <td>0</td>\n",
       "      <td>GOOGL</td>\n",
       "      <td>313.68869</td>\n",
       "      <td>2010-01-04</td>\n",
       "    </tr>\n",
       "    <tr>\n",
       "      <td>1</td>\n",
       "      <td>DOX</td>\n",
       "      <td>28.74000</td>\n",
       "      <td>2010-01-04</td>\n",
       "    </tr>\n",
       "    <tr>\n",
       "      <td>2</td>\n",
       "      <td>ADBE</td>\n",
       "      <td>37.09000</td>\n",
       "      <td>2010-01-04</td>\n",
       "    </tr>\n",
       "    <tr>\n",
       "      <td>3</td>\n",
       "      <td>AMKR</td>\n",
       "      <td>7.38000</td>\n",
       "      <td>2010-01-04</td>\n",
       "    </tr>\n",
       "    <tr>\n",
       "      <td>4</td>\n",
       "      <td>AMCN</td>\n",
       "      <td>8.20000</td>\n",
       "      <td>2010-01-04</td>\n",
       "    </tr>\n",
       "  </tbody>\n",
       "</table>\n",
       "</div>"
      ],
      "text/plain": [
       "  ticker      close       date\n",
       "0  GOOGL  313.68869 2010-01-04\n",
       "1    DOX   28.74000 2010-01-04\n",
       "2   ADBE   37.09000 2010-01-04\n",
       "3   AMKR    7.38000 2010-01-04\n",
       "4   AMCN    8.20000 2010-01-04"
      ]
     },
     "execution_count": 4,
     "metadata": {},
     "output_type": "execute_result"
    }
   ],
   "source": [
    "df['date'] = pd.to_datetime(df.date)\n",
    "df = df[df['date'] > '2010-01-01']\n",
    "df = df.sort_values(by='date')\n",
    "df = df.reset_index(drop=True)\n",
    "df.head()"
   ]
  },
  {
   "cell_type": "code",
   "execution_count": 5,
   "metadata": {},
   "outputs": [
    {
     "data": {
      "text/plain": [
       "27"
      ]
     },
     "execution_count": 5,
     "metadata": {},
     "output_type": "execute_result"
    }
   ],
   "source": [
    "uniqueTickers = df.ticker.unique()\n",
    "uniquedate = df.date.unique()\n",
    "newDf = pd.DataFrame(index=uniquedate, columns=uniqueTickers)\n",
    "newDf = newDf.fillna(np.nan) # with 0s rather than NaNs\n",
    "len(uniqueTickers)"
   ]
  },
  {
   "cell_type": "code",
   "execution_count": 6,
   "metadata": {
    "scrolled": true
   },
   "outputs": [
    {
     "name": "stdout",
     "output_type": "stream",
     "text": [
      "GOOGL       0\n",
      "DOX         0\n",
      "ADBE        0\n",
      "AMKR        0\n",
      "AMCN        0\n",
      "AGYS        0\n",
      "AABA        0\n",
      "ACIW        0\n",
      "ALLT        0\n",
      "AMD         1\n",
      "ACXM        0\n",
      "MDRX        0\n",
      "JOBS        0\n",
      "ATVI        0\n",
      "GOOG        0\n",
      "AOSL       80\n",
      "VNET      328\n",
      "AMBA      699\n",
      "TWOU     1065\n",
      "AMRH     1779\n",
      "ALRM     1379\n",
      "IOTS     1464\n",
      "ACIA     1610\n",
      "AIRG     1681\n",
      "ACMR     1973\n",
      "ALTR     1972\n",
      "AGMH     2087\n",
      "dtype: int64\n"
     ]
    }
   ],
   "source": [
    "for i in range(0, len(df)):\n",
    "    date = df.loc[i, 'date']\n",
    "    close = df.loc[i, 'close']\n",
    "    ticker = df.loc[i, 'ticker']\n",
    "    newDf.loc[date,ticker] = close\n",
    "    \n",
    "print(newDf.isna().sum())\n",
    "newDf = newDf.dropna(axis=1)"
   ]
  },
  {
   "cell_type": "code",
   "execution_count": 7,
   "metadata": {},
   "outputs": [
    {
     "data": {
      "text/html": [
       "<div>\n",
       "<style scoped>\n",
       "    .dataframe tbody tr th:only-of-type {\n",
       "        vertical-align: middle;\n",
       "    }\n",
       "\n",
       "    .dataframe tbody tr th {\n",
       "        vertical-align: top;\n",
       "    }\n",
       "\n",
       "    .dataframe thead th {\n",
       "        text-align: right;\n",
       "    }\n",
       "</style>\n",
       "<table border=\"1\" class=\"dataframe\">\n",
       "  <thead>\n",
       "    <tr style=\"text-align: right;\">\n",
       "      <th></th>\n",
       "      <th>GOOGL</th>\n",
       "      <th>DOX</th>\n",
       "      <th>ADBE</th>\n",
       "      <th>AMKR</th>\n",
       "      <th>AMCN</th>\n",
       "      <th>AGYS</th>\n",
       "      <th>AABA</th>\n",
       "      <th>ACIW</th>\n",
       "      <th>ALLT</th>\n",
       "      <th>ACXM</th>\n",
       "      <th>MDRX</th>\n",
       "      <th>JOBS</th>\n",
       "      <th>ATVI</th>\n",
       "      <th>GOOG</th>\n",
       "    </tr>\n",
       "  </thead>\n",
       "  <tbody>\n",
       "    <tr>\n",
       "      <td>2010-01-04</td>\n",
       "      <td>0.000000</td>\n",
       "      <td>0.000000</td>\n",
       "      <td>0.000000</td>\n",
       "      <td>0.000000</td>\n",
       "      <td>0.000000</td>\n",
       "      <td>0.000000</td>\n",
       "      <td>0.000000</td>\n",
       "      <td>0.000000</td>\n",
       "      <td>0.000000</td>\n",
       "      <td>0.000000</td>\n",
       "      <td>0.000000</td>\n",
       "      <td>0.000000</td>\n",
       "      <td>0.000000</td>\n",
       "      <td>0.000000</td>\n",
       "    </tr>\n",
       "    <tr>\n",
       "      <td>2010-01-05</td>\n",
       "      <td>-0.027085</td>\n",
       "      <td>0.000000</td>\n",
       "      <td>0.128688</td>\n",
       "      <td>-0.038211</td>\n",
       "      <td>0.065821</td>\n",
       "      <td>0.012100</td>\n",
       "      <td>0.073507</td>\n",
       "      <td>-0.155959</td>\n",
       "      <td>0.028695</td>\n",
       "      <td>-0.052007</td>\n",
       "      <td>-0.119758</td>\n",
       "      <td>0.109612</td>\n",
       "      <td>0.009376</td>\n",
       "      <td>-0.027433</td>\n",
       "    </tr>\n",
       "    <tr>\n",
       "      <td>2010-01-06</td>\n",
       "      <td>-0.155050</td>\n",
       "      <td>-0.167823</td>\n",
       "      <td>-0.016604</td>\n",
       "      <td>-0.055110</td>\n",
       "      <td>0.033404</td>\n",
       "      <td>-0.130013</td>\n",
       "      <td>-0.033670</td>\n",
       "      <td>-0.189626</td>\n",
       "      <td>-0.014279</td>\n",
       "      <td>0.024231</td>\n",
       "      <td>-0.068035</td>\n",
       "      <td>0.037526</td>\n",
       "      <td>-0.028077</td>\n",
       "      <td>-0.157040</td>\n",
       "    </tr>\n",
       "    <tr>\n",
       "      <td>2010-01-07</td>\n",
       "      <td>-0.143185</td>\n",
       "      <td>-0.316288</td>\n",
       "      <td>-0.151834</td>\n",
       "      <td>0.111749</td>\n",
       "      <td>-0.035680</td>\n",
       "      <td>0.104483</td>\n",
       "      <td>-0.264674</td>\n",
       "      <td>-0.088147</td>\n",
       "      <td>0.014313</td>\n",
       "      <td>0.048250</td>\n",
       "      <td>-0.002756</td>\n",
       "      <td>0.148962</td>\n",
       "      <td>-0.127023</td>\n",
       "      <td>-0.145022</td>\n",
       "    </tr>\n",
       "    <tr>\n",
       "      <td>2010-01-08</td>\n",
       "      <td>0.081995</td>\n",
       "      <td>0.306195</td>\n",
       "      <td>-0.042422</td>\n",
       "      <td>-0.043493</td>\n",
       "      <td>0.030657</td>\n",
       "      <td>0.036601</td>\n",
       "      <td>0.000000</td>\n",
       "      <td>0.027204</td>\n",
       "      <td>0.000000</td>\n",
       "      <td>-0.035875</td>\n",
       "      <td>0.033089</td>\n",
       "      <td>0.010327</td>\n",
       "      <td>-0.043381</td>\n",
       "      <td>0.083047</td>\n",
       "    </tr>\n",
       "  </tbody>\n",
       "</table>\n",
       "</div>"
      ],
      "text/plain": [
       "               GOOGL       DOX      ADBE      AMKR      AMCN      AGYS  \\\n",
       "2010-01-04  0.000000  0.000000  0.000000  0.000000  0.000000  0.000000   \n",
       "2010-01-05 -0.027085  0.000000  0.128688 -0.038211  0.065821  0.012100   \n",
       "2010-01-06 -0.155050 -0.167823 -0.016604 -0.055110  0.033404 -0.130013   \n",
       "2010-01-07 -0.143185 -0.316288 -0.151834  0.111749 -0.035680  0.104483   \n",
       "2010-01-08  0.081995  0.306195 -0.042422 -0.043493  0.030657  0.036601   \n",
       "\n",
       "                AABA      ACIW      ALLT      ACXM      MDRX      JOBS  \\\n",
       "2010-01-04  0.000000  0.000000  0.000000  0.000000  0.000000  0.000000   \n",
       "2010-01-05  0.073507 -0.155959  0.028695 -0.052007 -0.119758  0.109612   \n",
       "2010-01-06 -0.033670 -0.189626 -0.014279  0.024231 -0.068035  0.037526   \n",
       "2010-01-07 -0.264674 -0.088147  0.014313  0.048250 -0.002756  0.148962   \n",
       "2010-01-08  0.000000  0.027204  0.000000 -0.035875  0.033089  0.010327   \n",
       "\n",
       "                ATVI      GOOG  \n",
       "2010-01-04  0.000000  0.000000  \n",
       "2010-01-05  0.009376 -0.027433  \n",
       "2010-01-06 -0.028077 -0.157040  \n",
       "2010-01-07 -0.127023 -0.145022  \n",
       "2010-01-08 -0.043381  0.083047  "
      ]
     },
     "execution_count": 7,
     "metadata": {},
     "output_type": "execute_result"
    }
   ],
   "source": [
    "def normalize(df):\n",
    "    tickers = list(df.columns) \n",
    "    \n",
    "    for i in range(0, len(tickers)):\n",
    "        colMax = df[tickers[i]].max()\n",
    "        df[tickers[i]]=df[tickers[i]]/colMax\n",
    "\n",
    "percent_change_df = (newDf - newDf.shift())/newDf.shift()\n",
    "normalize(percent_change_df)\n",
    "percent_change_df[np.isnan(percent_change_df)] = 0\n",
    "\n",
    "percent_change_df.head()"
   ]
  },
  {
   "cell_type": "code",
   "execution_count": 8,
   "metadata": {},
   "outputs": [],
   "source": [
    "saved_df = newDf.copy()\n",
    "newDf = percent_change_df"
   ]
  },
  {
   "cell_type": "markdown",
   "metadata": {},
   "source": [
    "# Correlation and Vovarience matrix"
   ]
  },
  {
   "cell_type": "code",
   "execution_count": 9,
   "metadata": {},
   "outputs": [],
   "source": [
    "mean_stocks = newDf.mean(axis=0)\n",
    "std_stocks = newDf.std(ddof=1, axis=0)\n",
    "newDf_pca = (newDf - mean_stocks)/std_stocks\n",
    " \n",
    "cov_mat = np.cov(newDf_pca.values.T)  \n",
    "corr_mat = np.corrcoef(newDf_pca.values.T)"
   ]
  },
  {
   "cell_type": "markdown",
   "metadata": {},
   "source": [
    "# Calculate the stocks with that are most correlated"
   ]
  },
  {
   "cell_type": "code",
   "execution_count": 10,
   "metadata": {
    "scrolled": true
   },
   "outputs": [
    {
     "data": {
      "text/html": [
       "<div>\n",
       "<style scoped>\n",
       "    .dataframe tbody tr th:only-of-type {\n",
       "        vertical-align: middle;\n",
       "    }\n",
       "\n",
       "    .dataframe tbody tr th {\n",
       "        vertical-align: top;\n",
       "    }\n",
       "\n",
       "    .dataframe thead th {\n",
       "        text-align: right;\n",
       "    }\n",
       "</style>\n",
       "<table border=\"1\" class=\"dataframe\">\n",
       "  <thead>\n",
       "    <tr style=\"text-align: right;\">\n",
       "      <th></th>\n",
       "      <th>tcikers</th>\n",
       "      <th>corr</th>\n",
       "    </tr>\n",
       "  </thead>\n",
       "  <tbody>\n",
       "    <tr>\n",
       "      <td>0</td>\n",
       "      <td>GOOG</td>\n",
       "      <td>5.924576</td>\n",
       "    </tr>\n",
       "    <tr>\n",
       "      <td>1</td>\n",
       "      <td>GOOGL</td>\n",
       "      <td>5.924453</td>\n",
       "    </tr>\n",
       "    <tr>\n",
       "      <td>2</td>\n",
       "      <td>ADBE</td>\n",
       "      <td>5.551565</td>\n",
       "    </tr>\n",
       "    <tr>\n",
       "      <td>3</td>\n",
       "      <td>ACIW</td>\n",
       "      <td>5.529869</td>\n",
       "    </tr>\n",
       "    <tr>\n",
       "      <td>4</td>\n",
       "      <td>DOX</td>\n",
       "      <td>5.388999</td>\n",
       "    </tr>\n",
       "  </tbody>\n",
       "</table>\n",
       "</div>"
      ],
      "text/plain": [
       "  tcikers      corr\n",
       "0    GOOG  5.924576\n",
       "1   GOOGL  5.924453\n",
       "2    ADBE  5.551565\n",
       "3    ACIW  5.529869\n",
       "4     DOX  5.388999"
      ]
     },
     "execution_count": 10,
     "metadata": {},
     "output_type": "execute_result"
    }
   ],
   "source": [
    "corr_rank = corr_mat.sum(axis=0)\n",
    "tickers = list(newDf.columns)\n",
    "\n",
    "most_corr_df = pd.DataFrame(index=range(0, len(tickers)))\n",
    "most_corr_df['tcikers'] = tickers\n",
    "most_corr_df['corr'] = corr_rank\n",
    "most_corr_df = most_corr_df.sort_values(by=['corr'],ascending=False)\n",
    "most_corr_df = most_corr_df.reset_index(drop=True)\n",
    "\n",
    "most_corr_df.head()"
   ]
  },
  {
   "cell_type": "code",
   "execution_count": 11,
   "metadata": {},
   "outputs": [
    {
     "data": {
      "image/png": "[encoded data removed]",
      "text/plain": [
       "<Figure size 432x288 with 2 Axes>"
      ]
     },
     "metadata": {
      "needs_background": "light"
     },
     "output_type": "display_data"
    }
   ],
   "source": [
    "plt.imshow(corr_mat, cmap=\"bwr\")\n",
    "cb = plt.colorbar()\n",
    "plt.yticks(np.array(range(0, len(tickers))), tickers)\n",
    "plt.xticks(np.array(range(0, len(tickers))), tickers)\n",
    "plt.title(\"Correlation between tech stocks\")\n",
    "plt.show()"
   ]
  },
  {
   "cell_type": "code",
   "execution_count": 12,
   "metadata": {},
   "outputs": [
    {
     "data": {
      "image/png": "[encoded data removed]",
      "text/plain": [
       "<Figure size 432x288 with 2 Axes>"
      ]
     },
     "metadata": {
      "needs_background": "light"
     },
     "output_type": "display_data"
    }
   ],
   "source": [
    "vals, vecs = np.linalg.eig(cov_mat)  \n",
    " \n",
    "ax = plt.figure().gca()\n",
    "plt.imshow(vecs, cmap=\"bwr\")\n",
    "cb = plt.colorbar()\n",
    "plt.yticks(np.array(range(0, len(tickers))), tickers)\n",
    "plt.xlabel(\"PC Number\")\n",
    "plt.title(\"Contribution of each feature to each PC\")\n",
    "plt.show()"
   ]
  },
  {
   "cell_type": "code",
   "execution_count": 13,
   "metadata": {},
   "outputs": [
    {
     "data": {
      "text/plain": [
       "Text(0.5, 1.0, 'PCA components total varience')"
      ]
     },
     "execution_count": 13,
     "metadata": {},
     "output_type": "execute_result"
    },
    {
     "data": {
      "image/png": "[encoded data removed]",
      "text/plain": [
       "<Figure size 432x288 with 1 Axes>"
      ]
     },
     "metadata": {
      "needs_background": "light"
     },
     "output_type": "display_data"
    }
   ],
   "source": [
    "sumOfEigVals = sum(vals)\n",
    "PCA_varience = (vals/sumOfEigVals)*100\n",
    "xLables = np.array(range(0, len(vals)))\n",
    "plt.bar(xLables, PCA_varience)\n",
    "plt.ylabel('Varience')\n",
    "plt.xlabel('PCA')\n",
    "plt.title('PCA components total varience')"
   ]
  },
  {
   "cell_type": "code",
   "execution_count": 16,
   "metadata": {},
   "outputs": [
    {
     "data": {
      "text/plain": [
       "(2, 14)"
      ]
     },
     "execution_count": 16,
     "metadata": {},
     "output_type": "execute_result"
    }
   ],
   "source": [
    "vecs[:2].shape"
   ]
  },
  {
   "cell_type": "code",
   "execution_count": 60,
   "metadata": {},
   "outputs": [
    {
     "data": {
      "text/html": [
       "<div>\n",
       "<style scoped>\n",
       "    .dataframe tbody tr th:only-of-type {\n",
       "        vertical-align: middle;\n",
       "    }\n",
       "\n",
       "    .dataframe tbody tr th {\n",
       "        vertical-align: top;\n",
       "    }\n",
       "\n",
       "    .dataframe thead th {\n",
       "        text-align: right;\n",
       "    }\n",
       "</style>\n",
       "<table border=\"1\" class=\"dataframe\">\n",
       "  <thead>\n",
       "    <tr style=\"text-align: right;\">\n",
       "      <th></th>\n",
       "      <th>0</th>\n",
       "      <th>1</th>\n",
       "      <th>2</th>\n",
       "      <th>3</th>\n",
       "      <th>4</th>\n",
       "      <th>5</th>\n",
       "      <th>6</th>\n",
       "      <th>7</th>\n",
       "      <th>8</th>\n",
       "      <th>9</th>\n",
       "      <th>10</th>\n",
       "      <th>11</th>\n",
       "      <th>12</th>\n",
       "      <th>13</th>\n",
       "    </tr>\n",
       "  </thead>\n",
       "  <tbody>\n",
       "    <tr>\n",
       "      <td>0</td>\n",
       "      <td>0.000000</td>\n",
       "      <td>0.000000</td>\n",
       "      <td>0.000000</td>\n",
       "      <td>0.000000</td>\n",
       "      <td>0.000000</td>\n",
       "      <td>0.000000</td>\n",
       "      <td>0.000000</td>\n",
       "      <td>0.000000</td>\n",
       "      <td>0.000000</td>\n",
       "      <td>0.000000</td>\n",
       "      <td>0.000000</td>\n",
       "      <td>0.000000</td>\n",
       "      <td>0.000000</td>\n",
       "      <td>0.000000</td>\n",
       "    </tr>\n",
       "    <tr>\n",
       "      <td>1</td>\n",
       "      <td>-0.094393</td>\n",
       "      <td>0.004073</td>\n",
       "      <td>-0.103973</td>\n",
       "      <td>0.083213</td>\n",
       "      <td>-0.056427</td>\n",
       "      <td>0.008977</td>\n",
       "      <td>0.121228</td>\n",
       "      <td>-0.050767</td>\n",
       "      <td>0.162732</td>\n",
       "      <td>-0.017216</td>\n",
       "      <td>-0.022648</td>\n",
       "      <td>0.006427</td>\n",
       "      <td>0.020044</td>\n",
       "      <td>-0.093551</td>\n",
       "    </tr>\n",
       "    <tr>\n",
       "      <td>2</td>\n",
       "      <td>-0.197979</td>\n",
       "      <td>-0.044448</td>\n",
       "      <td>-0.035047</td>\n",
       "      <td>0.043423</td>\n",
       "      <td>-0.110002</td>\n",
       "      <td>-0.065084</td>\n",
       "      <td>0.027352</td>\n",
       "      <td>-0.134115</td>\n",
       "      <td>0.011286</td>\n",
       "      <td>-0.215352</td>\n",
       "      <td>-0.027033</td>\n",
       "      <td>0.016485</td>\n",
       "      <td>0.120473</td>\n",
       "      <td>0.039113</td>\n",
       "    </tr>\n",
       "    <tr>\n",
       "      <td>3</td>\n",
       "      <td>-0.222811</td>\n",
       "      <td>-0.073449</td>\n",
       "      <td>-0.025057</td>\n",
       "      <td>0.035838</td>\n",
       "      <td>0.146561</td>\n",
       "      <td>-0.014120</td>\n",
       "      <td>0.027222</td>\n",
       "      <td>-0.106379</td>\n",
       "      <td>-0.098218</td>\n",
       "      <td>-0.291696</td>\n",
       "      <td>0.134103</td>\n",
       "      <td>-0.231556</td>\n",
       "      <td>0.024169</td>\n",
       "      <td>0.224459</td>\n",
       "    </tr>\n",
       "    <tr>\n",
       "      <td>4</td>\n",
       "      <td>0.280936</td>\n",
       "      <td>-0.029758</td>\n",
       "      <td>0.015846</td>\n",
       "      <td>0.054021</td>\n",
       "      <td>-0.020125</td>\n",
       "      <td>-0.006730</td>\n",
       "      <td>0.014332</td>\n",
       "      <td>0.038737</td>\n",
       "      <td>0.003880</td>\n",
       "      <td>0.079393</td>\n",
       "      <td>0.039572</td>\n",
       "      <td>-0.022747</td>\n",
       "      <td>-0.044566</td>\n",
       "      <td>-0.151435</td>\n",
       "    </tr>\n",
       "    <tr>\n",
       "      <td>...</td>\n",
       "      <td>...</td>\n",
       "      <td>...</td>\n",
       "      <td>...</td>\n",
       "      <td>...</td>\n",
       "      <td>...</td>\n",
       "      <td>...</td>\n",
       "      <td>...</td>\n",
       "      <td>...</td>\n",
       "      <td>...</td>\n",
       "      <td>...</td>\n",
       "      <td>...</td>\n",
       "      <td>...</td>\n",
       "      <td>...</td>\n",
       "      <td>...</td>\n",
       "    </tr>\n",
       "    <tr>\n",
       "      <td>2172</td>\n",
       "      <td>-0.094036</td>\n",
       "      <td>0.012313</td>\n",
       "      <td>-0.022963</td>\n",
       "      <td>0.008006</td>\n",
       "      <td>-0.041438</td>\n",
       "      <td>0.026844</td>\n",
       "      <td>-0.027143</td>\n",
       "      <td>0.063994</td>\n",
       "      <td>0.115133</td>\n",
       "      <td>0.049211</td>\n",
       "      <td>-0.009536</td>\n",
       "      <td>0.171909</td>\n",
       "      <td>-0.139794</td>\n",
       "      <td>0.046286</td>\n",
       "    </tr>\n",
       "    <tr>\n",
       "      <td>2173</td>\n",
       "      <td>-0.118783</td>\n",
       "      <td>0.015938</td>\n",
       "      <td>0.042268</td>\n",
       "      <td>-0.074459</td>\n",
       "      <td>0.032366</td>\n",
       "      <td>0.177868</td>\n",
       "      <td>0.077702</td>\n",
       "      <td>0.025598</td>\n",
       "      <td>-0.059691</td>\n",
       "      <td>0.007094</td>\n",
       "      <td>-0.164510</td>\n",
       "      <td>-0.019873</td>\n",
       "      <td>-0.040714</td>\n",
       "      <td>0.021940</td>\n",
       "    </tr>\n",
       "    <tr>\n",
       "      <td>2174</td>\n",
       "      <td>-0.044728</td>\n",
       "      <td>0.094038</td>\n",
       "      <td>0.127714</td>\n",
       "      <td>-0.112552</td>\n",
       "      <td>-0.025594</td>\n",
       "      <td>0.075697</td>\n",
       "      <td>-0.034589</td>\n",
       "      <td>0.038931</td>\n",
       "      <td>-0.046323</td>\n",
       "      <td>0.130966</td>\n",
       "      <td>-0.016860</td>\n",
       "      <td>-0.000972</td>\n",
       "      <td>-0.022814</td>\n",
       "      <td>-0.096065</td>\n",
       "    </tr>\n",
       "    <tr>\n",
       "      <td>2175</td>\n",
       "      <td>-0.036772</td>\n",
       "      <td>0.090655</td>\n",
       "      <td>-0.021625</td>\n",
       "      <td>0.055022</td>\n",
       "      <td>0.022691</td>\n",
       "      <td>-0.027781</td>\n",
       "      <td>-0.078438</td>\n",
       "      <td>-0.024429</td>\n",
       "      <td>-0.078372</td>\n",
       "      <td>0.006470</td>\n",
       "      <td>0.197664</td>\n",
       "      <td>-0.143515</td>\n",
       "      <td>0.112695</td>\n",
       "      <td>-0.059401</td>\n",
       "    </tr>\n",
       "    <tr>\n",
       "      <td>2176</td>\n",
       "      <td>-0.016873</td>\n",
       "      <td>0.098414</td>\n",
       "      <td>0.029674</td>\n",
       "      <td>-0.165470</td>\n",
       "      <td>0.000131</td>\n",
       "      <td>-0.017393</td>\n",
       "      <td>0.059087</td>\n",
       "      <td>0.113314</td>\n",
       "      <td>0.102779</td>\n",
       "      <td>0.154403</td>\n",
       "      <td>0.018025</td>\n",
       "      <td>0.112182</td>\n",
       "      <td>-0.109679</td>\n",
       "      <td>-0.058890</td>\n",
       "    </tr>\n",
       "  </tbody>\n",
       "</table>\n",
       "<p>2177 rows × 14 columns</p>\n",
       "</div>"
      ],
      "text/plain": [
       "             0         1         2         3         4         5         6  \\\n",
       "0     0.000000  0.000000  0.000000  0.000000  0.000000  0.000000  0.000000   \n",
       "1    -0.094393  0.004073 -0.103973  0.083213 -0.056427  0.008977  0.121228   \n",
       "2    -0.197979 -0.044448 -0.035047  0.043423 -0.110002 -0.065084  0.027352   \n",
       "3    -0.222811 -0.073449 -0.025057  0.035838  0.146561 -0.014120  0.027222   \n",
       "4     0.280936 -0.029758  0.015846  0.054021 -0.020125 -0.006730  0.014332   \n",
       "...        ...       ...       ...       ...       ...       ...       ...   \n",
       "2172 -0.094036  0.012313 -0.022963  0.008006 -0.041438  0.026844 -0.027143   \n",
       "2173 -0.118783  0.015938  0.042268 -0.074459  0.032366  0.177868  0.077702   \n",
       "2174 -0.044728  0.094038  0.127714 -0.112552 -0.025594  0.075697 -0.034589   \n",
       "2175 -0.036772  0.090655 -0.021625  0.055022  0.022691 -0.027781 -0.078438   \n",
       "2176 -0.016873  0.098414  0.029674 -0.165470  0.000131 -0.017393  0.059087   \n",
       "\n",
       "             7         8         9        10        11        12        13  \n",
       "0     0.000000  0.000000  0.000000  0.000000  0.000000  0.000000  0.000000  \n",
       "1    -0.050767  0.162732 -0.017216 -0.022648  0.006427  0.020044 -0.093551  \n",
       "2    -0.134115  0.011286 -0.215352 -0.027033  0.016485  0.120473  0.039113  \n",
       "3    -0.106379 -0.098218 -0.291696  0.134103 -0.231556  0.024169  0.224459  \n",
       "4     0.038737  0.003880  0.079393  0.039572 -0.022747 -0.044566 -0.151435  \n",
       "...        ...       ...       ...       ...       ...       ...       ...  \n",
       "2172  0.063994  0.115133  0.049211 -0.009536  0.171909 -0.139794  0.046286  \n",
       "2173  0.025598 -0.059691  0.007094 -0.164510 -0.019873 -0.040714  0.021940  \n",
       "2174  0.038931 -0.046323  0.130966 -0.016860 -0.000972 -0.022814 -0.096065  \n",
       "2175 -0.024429 -0.078372  0.006470  0.197664 -0.143515  0.112695 -0.059401  \n",
       "2176  0.113314  0.102779  0.154403  0.018025  0.112182 -0.109679 -0.058890  \n",
       "\n",
       "[2177 rows x 14 columns]"
      ]
     },
     "execution_count": 60,
     "metadata": {},
     "output_type": "execute_result"
    }
   ],
   "source": [
    "Principal_comp = vecs.dot(newDf.T)\n",
    "pd.DataFrame(Principal_comp.T)"
   ]
  },
  {
   "cell_type": "code",
   "execution_count": 85,
   "metadata": {},
   "outputs": [],
   "source": [
    "pred_google = newDf['GOOG'].values.T*Principal_comp\n",
    "pred_google = pd.DataFrame(pred_google.T)"
   ]
  },
  {
   "cell_type": "code",
   "execution_count": 90,
   "metadata": {},
   "outputs": [
    {
     "data": {
      "text/plain": [
       "(2177,)"
      ]
     },
     "execution_count": 90,
     "metadata": {},
     "output_type": "execute_result"
    }
   ],
   "source": [
    "pred_google[0].shape"
   ]
  },
  {
   "cell_type": "code",
   "execution_count": 92,
   "metadata": {},
   "outputs": [
    {
     "data": {
      "text/plain": [
       "[<matplotlib.lines.Line2D at 0x21ee8c7ac08>]"
      ]
     },
     "execution_count": 92,
     "metadata": {},
     "output_type": "execute_result"
    },
    {
     "data": {
      "image/png": "[encoded data removed]",
      "text/plain": [
       "<Figure size 432x288 with 1 Axes>"
      ]
     },
     "metadata": {
      "needs_background": "light"
     },
     "output_type": "display_data"
    }
   ],
   "source": [
    "plt.plot(range(0, len(pred_google[0])), pred_google[0])"
   ]
  },
  {
   "cell_type": "code",
   "execution_count": 95,
   "metadata": {},
   "outputs": [
    {
     "data": {
      "text/plain": [
       "[<matplotlib.lines.Line2D at 0x21ee8c74e88>]"
      ]
     },
     "execution_count": 95,
     "metadata": {},
     "output_type": "execute_result"
    },
    {
     "data": {
      "image/png": "[encoded data removed]",
      "text/plain": [
       "<Figure size 432x288 with 1 Axes>"
      ]
     },
     "metadata": {
      "needs_background": "light"
     },
     "output_type": "display_data"
    }
   ],
   "source": [
    "plt.plot(range(0, len(pred_google[0])), newDf['GOOG'])"
   ]
  },
  {
   "cell_type": "code",
   "execution_count": null,
   "metadata": {},
   "outputs": [],
   "source": []
  }
 ],
 "metadata": {
  "kernelspec": {
   "display_name": "Python 3",
   "language": "python",
   "name": "python3"
  },
  "language_info": {
   "codemirror_mode": {
    "name": "ipython",
    "version": 3
   },
   "file_extension": ".py",
   "mimetype": "text/x-python",
   "name": "python",
   "nbconvert_exporter": "python",
   "pygments_lexer": "ipython3",
   "version": "3.7.4"
  }
 },
 "nbformat": 4,
 "nbformat_minor": 2
}
